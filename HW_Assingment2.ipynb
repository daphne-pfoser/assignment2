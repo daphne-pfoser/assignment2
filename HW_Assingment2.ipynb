{
  "cells": [
    {
      "cell_type": "markdown",
      "id": "13ad028b-72b7-43ed-aa78-96fd4e518040",
      "metadata": {
        "id": "13ad028b-72b7-43ed-aa78-96fd4e518040"
      },
      "source": [
        "# Assignment: Data Wrangling and Exploratory Data Analysis\n",
        "## Do Q1 and Q2, and one other question.\n",
        "`! git clone https://www.github.com/DS3001/assignment2`"
      ]
    },
    {
      "cell_type": "markdown",
      "id": "5735a4d4-8be8-433a-a351-70eb8002e632",
      "metadata": {
        "id": "5735a4d4-8be8-433a-a351-70eb8002e632"
      },
      "source": [
        "**Q1.** Open the \"tidy_data.pdf\" document in the repo, which is a paper called Tidy Data by Hadley Wickham.\n",
        "\n",
        "  1. Read the abstract. What is this paper about?\n",
        "  2. Read the introduction. What is the \"tidy data standard\" intended to accomplish?\n",
        "  3. Read the intro to section 2. What does this sentence mean: \"Like families, tidy datasets are all alike but every messy dataset is messy in its own way.\" What does this sentence mean: \"For a given dataset, it’s usually easy to figure out what are observations and what are variables, but it is surprisingly difficult to precisely define variables and observations in general.\"\n",
        "  4. Read Section 2.2. How does Wickham define values, variables, and observations?\n",
        "  5. How is \"Tidy Data\" defined in section 2.3?\n",
        "  6. Read the intro to Section 3 and Section 3.1. What are the 5 most common problems with messy datasets? Why are the data in Table 4 messy? What is \"melting\" a dataset?\n",
        "  7. Why, specifically, is table 11 messy but table 12 tidy and \"molten\"?\n",
        "  8. Read Section 6. What is the \"chicken-and-egg\" problem with focusing on tidy data? What does Wickham hope happens in the future with further work on the subject of data wrangling?"
      ]
    },
    {
      "cell_type": "code",
      "execution_count": null,
      "id": "eM_8f7MDJJ-T",
      "metadata": {
        "id": "eM_8f7MDJJ-T"
      },
      "outputs": [],
      "source": [
        "# Q1 Reading the Tidy Data paper\n",
        "\n",
        "# Q1.1 Abstract\n",
        "# This paper talks about how tidy datasets are easy to clean because they each observation has a column, row, and each type of observational unit\n",
        "# is a table. Because of this structure, not a lot of tools are required to clean this.\n",
        "\n",
        "# Q1.2 Introduction\n",
        "# It is intended to organise data values within a dataset to make data cleaning easier\n",
        "\n",
        "# Q1.3 Into to section 2\n",
        "# \"Like families, tidy datasets are all alike but every messy dataset is messy in its own way\" meaning:\n",
        "# When datasets have the same properties they are similar, but some datasets might have missing values or values that were stored incorrectly.\n",
        "\n",
        "# \"For a given dataset, it's usually easy to figure out what are the observations and what are the values, but it is surpisingly difficult to\n",
        "# precisely define varaibles and observations in general\" meaning:\n",
        "# When a person looks at a dataset, they can see which are the observations and which are the values but thye can have a hard time trying to\n",
        "# articulate what these observations and values are.\n",
        "\n",
        "#Q1.4 Section 2.2\n",
        "# Values are what are collected in a dataset: they can be either numbers or strings and they are organized in two ways: Variables and observations\n",
        "# Variables have values that measure the same thing. For example, they can measure weight or height\n",
        "# Observations have the values that are measured. For example, if we measure the weight (variable) of someone, the observation would be the person\n",
        "\n",
        "# Q1.5 Section 2.3\n",
        "# Tidy data is the way to match the meaning of a dataset to its structure\n",
        "\n",
        "# Q1.6 Section 3 - 3.1\n",
        "# 5 most common problems with messy datasets:\n",
        "# 1. Column headers are values and not variable names. So instead of having a variable name of cost, it will be the price numbers\n",
        "# 2. Multiple variables are stored in one column. So all of the variables are in one table which will make it hard to understand what's going on\n",
        "# 3. Variables are stored in both rows and columns. So all the variables are in individual columns, spread across columns and rows.\n",
        "# 4. Multiple types in one variable. So facts will be placed in multiple places and that will result in inconsistances\n",
        "# 5. A sinly observational unit in multiple tables. So basically a single type of data will be placed in multiple tables or files.\n",
        "\n",
        "# Data in table 4 are messy because the column headers have the income in numbers instead of having one column header named \"income\"\n",
        "# Melting a dataset is stacking a dataset\n",
        "\n",
        "# Q1.7 Table 11 and Table 12\n",
        "# Table 11 is messy because there is a rows for each day in the month and each row has NAs\n",
        "# Table 12 is is tidy and \"molten\" because each date has its own column\n",
        "\n",
        "#Q1.8 Section 6\n",
        "# The chicken and egg problem with visualizing data is that if the tidy data is as useful as the tools that go with it then the tools depend on the tidy data\n",
        "# Wickham hopes that others will build on this tidy data framework and develop better tools and better data storage strategies\n"
      ]
    },
    {
      "cell_type": "markdown",
      "id": "da879ea7-8aac-48a3-b6c2-daea56d2e072",
      "metadata": {
        "id": "da879ea7-8aac-48a3-b6c2-daea56d2e072"
      },
      "source": [
        "**Q2.** This question provides some practice cleaning variables which have common problems.\n",
        "1. Numeric variable: For `./data/airbnb_hw.csv`, clean the `Price` variable as well as you can, and explain the choices you make. How many missing values do you end up with? (Hint: What happens to the formatting when a price goes over 999 dollars, say from 675 to 1,112?)\n",
        "2. Categorical variable: For the `./data/sharks.csv` data covered in the lecture, clean the \"Type\" variable as well as you can, and explain the choices you make.\n",
        "3. Dummy variable: For the pretrial data covered in the lecture, clean the `WhetherDefendantWasReleasedPretrial` variable as well as you can, and, in particular, replace missing values with `np.nan`.\n",
        "4. Missing values, not at random: For the pretrial data covered in the lecture, clean the `ImposedSentenceAllChargeInContactEvent` variable as well as you can, and explain the choices you make. (Hint: Look at the `SentenceTypeAllChargesAtConvictionInContactEvent` variable.)"
      ]
    },
    {
      "cell_type": "code",
      "execution_count": 84,
      "id": "FCqc-FxrY9GI",
      "metadata": {
        "colab": {
          "base_uri": "https://localhost:8080/"
        },
        "id": "FCqc-FxrY9GI",
        "outputId": "81c1055e-ca37-426c-9eb8-b2c3fcd3706f"
      },
      "outputs": [
        {
          "name": "stdout",
          "output_type": "stream",
          "text": [
            "        Host Id Host Since                                Name Neighbourhood   \\\n",
            "0       5162530        NaN     1 Bedroom in Prime Williamsburg       Brooklyn   \n",
            "1      33134899        NaN     Sunny, Private room in Bushwick       Brooklyn   \n",
            "2      39608626        NaN                Sunny Room in Harlem      Manhattan   \n",
            "3           500  6/26/2008  Gorgeous 1 BR with Private Balcony      Manhattan   \n",
            "4           500  6/26/2008            Trendy Times Square Loft      Manhattan   \n",
            "...         ...        ...                                 ...            ...   \n",
            "30473  43022976  8/31/2015   10 Mins to Time Square/two floors         Queens   \n",
            "30474  42993382  8/31/2015       1BR ocean view & F,Q train st       Brooklyn   \n",
            "30475  43033067  8/31/2015                Amazing Private Room       Brooklyn   \n",
            "30476  43000991  8/31/2015   Charming private female room: UWS      Manhattan   \n",
            "30477  42999189  8/31/2015    Huge Beautiful Bedroom - Astoria         Queens   \n",
            "\n",
            "      Property Type  Review Scores Rating (bin)        Room Type  Zipcode  \\\n",
            "0         Apartment                         NaN  Entire home/apt  11249.0   \n",
            "1         Apartment                         NaN     Private room  11206.0   \n",
            "2         Apartment                         NaN     Private room  10032.0   \n",
            "3         Apartment                         NaN  Entire home/apt  10024.0   \n",
            "4         Apartment                        95.0     Private room  10036.0   \n",
            "...             ...                         ...              ...      ...   \n",
            "30473     Apartment                         NaN  Entire home/apt  11101.0   \n",
            "30474     Apartment                         NaN     Private room  11224.0   \n",
            "30475         Other                         NaN     Private room  11206.0   \n",
            "30476     Apartment                         NaN     Private room  10025.0   \n",
            "30477         House                         NaN     Private room  11105.0   \n",
            "\n",
            "       Beds  Number of Records  Number Of Reviews Price  Review Scores Rating  \n",
            "0       1.0                  1                  0   145                   NaN  \n",
            "1       1.0                  1                  1    37                   NaN  \n",
            "2       1.0                  1                  1    28                   NaN  \n",
            "3       3.0                  1                  0   199                   NaN  \n",
            "4       3.0                  1                 39   549                  96.0  \n",
            "...     ...                ...                ...   ...                   ...  \n",
            "30473   5.0                  1                  0   300                   NaN  \n",
            "30474   2.0                  1                  0   125                   NaN  \n",
            "30475   1.0                  1                  0    80                   NaN  \n",
            "30476   1.0                  1                  0    35                   NaN  \n",
            "30477   1.0                  1                  0    80                   NaN  \n",
            "\n",
            "[30478 rows x 13 columns]\n"
          ]
        },
        {
          "data": {
            "text/plain": [
              "0        145\n",
              "1         37\n",
              "2         28\n",
              "3        199\n",
              "4        549\n",
              "        ... \n",
              "30473    300\n",
              "30474    125\n",
              "30475     80\n",
              "30476     35\n",
              "30477     80\n",
              "Name: Price, Length: 30478, dtype: object"
            ]
          },
          "execution_count": 84,
          "metadata": {},
          "output_type": "execute_result"
        }
      ],
      "source": [
        "# Q2.1 Cleaning the numeric variable 'Price' from the airbnb data\n",
        "\n",
        "import numpy as np\n",
        "import pandas as pd\n",
        "import matplotlib.pyplot as plt\n",
        "\n",
        "# importing the data\n",
        "df_airbnb = pd.read_csv( 'airbnb_hw.csv')\n",
        "\n",
        "print(df_airbnb)\n",
        "# Getting the price variable\n",
        "df_airbnb.loc[:,\"Price\"]\n"
      ]
    },
    {
      "cell_type": "code",
      "execution_count": 85,
      "id": "8Y7cAN00cCzJ",
      "metadata": {
        "colab": {
          "base_uri": "https://localhost:8080/"
        },
        "id": "8Y7cAN00cCzJ",
        "outputId": "c0b90f9f-8d0e-4629-ef77-10f10d2ced4d"
      },
      "outputs": [
        {
          "name": "stdout",
          "output_type": "stream",
          "text": [
            "['145' '37' '28' '199' '549' '149' '250' '90' '270' '290' '170' '59' '49'\n",
            " '68' '285' '75' '100' '150' '700' '125' '175' '40' '89' '95' '99' '499'\n",
            " '120' '79' '110' '180' '143' '230' '350' '135' '85' '60' '70' '55' '44'\n",
            " '200' '165' '115' '74' '84' '129' '50' '185' '80' '190' '140' '45' '65'\n",
            " '225' '600' '109' '1,990' '73' '240' '72' '105' '155' '160' '42' '132'\n",
            " '117' '295' '280' '159' '107' '69' '239' '220' '399' '130' '375' '585'\n",
            " '275' '139' '260' '35' '133' '300' '289' '179' '98' '195' '29' '27' '39'\n",
            " '249' '192' '142' '169' '1,000' '131' '138' '113' '122' '329' '101' '475'\n",
            " '238' '272' '308' '126' '235' '315' '248' '128' '56' '207' '450' '215'\n",
            " '210' '385' '445' '136' '247' '118' '77' '76' '92' '198' '205' '299'\n",
            " '222' '245' '104' '153' '349' '114' '320' '292' '226' '420' '500' '325'\n",
            " '307' '78' '265' '108' '123' '189' '32' '58' '86' '219' '800' '335' '63'\n",
            " '229' '425' '67' '87' '1,200' '158' '650' '234' '310' '695' '400' '166'\n",
            " '119' '62' '168' '340' '479' '43' '395' '144' '52' '47' '529' '187' '209'\n",
            " '233' '82' '269' '163' '172' '305' '156' '550' '435' '137' '124' '48'\n",
            " '279' '330' '5,000' '134' '378' '97' '277' '64' '193' '147' '186' '264'\n",
            " '30' '3,000' '112' '94' '379' '57' '415' '236' '410' '214' '88' '66' '71'\n",
            " '171' '157' '545' '1,500' '83' '96' '1,800' '81' '188' '380' '255' '505'\n",
            " '54' '33' '174' '93' '740' '640' '1,300' '440' '599' '357' '1,239' '495'\n",
            " '127' '5,999' '178' '348' '152' '242' '183' '253' '750' '259' '365' '273'\n",
            " '197' '397' '103' '389' '355' '559' '38' '203' '999' '141' '162' '333'\n",
            " '698' '46' '360' '895' '10' '41' '206' '281' '449' '388' '212' '102'\n",
            " '201' '2,750' '4,750' '432' '675' '167' '390' '298' '339' '194' '302'\n",
            " '211' '595' '191' '53' '361' '480' '8,000' '4,500' '459' '997' '345'\n",
            " '216' '218' '111' '735' '276' '91' '490' '850' '398' '36' '775' '267'\n",
            " '625' '336' '2,500' '176' '725' '3,750' '469' '106' '460' '287' '575'\n",
            " '227' '263' '25' '228' '208' '177' '880' '148' '116' '685' '470' '217'\n",
            " '164' '61' '645' '699' '405' '252' '319' '268' '419' '343' '525' '311'\n",
            " '840' '154' '294' '950' '409' '184' '257' '204' '241' '2,000' '412' '121'\n",
            " '288' '196' '900' '647' '524' '1,750' '309' '510' '1,495' '1,700' '799'\n",
            " '383' '372' '492' '327' '1,999' '656' '224' '173' '875' '1,170' '795'\n",
            " '690' '146' '465' '1,100' '151' '274' '429' '825' '282' '256' '1,111'\n",
            " '620' '271' '161' '51' '855' '579' '1,174' '430' '20' '899' '649' '485'\n",
            " '181' '455' '4,000' '243' '342' '590' '560' '374' '437' '232' '359' '985'\n",
            " '31' '244' '254' '723' '237' '428' '370' '34' '1,400' '580' '2,520' '221'\n",
            " '749' '1,600' '2,695' '306' '202' '680' '570' '520' '223' '2,295' '213'\n",
            " '1,065' '346' '24' '286' '296' '266' '26' '995' '1,368' '393' '182' '635'\n",
            " '258' '780' '589' '347' '1,250' '1,350' '446' '3,200' '1,050' '1,650'\n",
            " '1,550' '975' '323' '6,500' '2,499' '1,850' '2,250' '715' '461' '540'\n",
            " '356' '439' '384' '569' '1,900' '22' '785' '626' '830' '318' '444' '321'\n",
            " '401' '1,499' '888' '369' '770' '386' '366' '344' '630' '313' '597' '262'\n",
            " '509' '10,000' '278' '312' '789' '1,195' '422' '21' '765' '3,500' '945'\n",
            " '326' '3,100' '2,486' '3,390' '1,356' '2,599' '472' '454' '328' '396'\n",
            " '291'] \n",
            "\n",
            "150      1481\n",
            "100      1207\n",
            "200      1059\n",
            "125       889\n",
            "75        873\n",
            "         ... \n",
            "840         1\n",
            "306         1\n",
            "2,695       1\n",
            "2,520       1\n",
            "291         1\n",
            "Name: Price, Length: 511, dtype: int64 \n",
            "\n"
          ]
        }
      ],
      "source": [
        "# Q2.1 - Looking at the price variable\n",
        "# using the .unique function\n",
        "print(df_airbnb['Price'].unique(), '\\n') # can see that there are quotations around the numbers - not good\n",
        "# using the .value_counts() function to see how many times each price happens\n",
        "print(df_airbnb['Price'].value_counts(), '\\n')"
      ]
    },
    {
      "cell_type": "code",
      "execution_count": 86,
      "id": "Or91WjMLkaAa",
      "metadata": {
        "colab": {
          "base_uri": "https://localhost:8080/"
        },
        "id": "Or91WjMLkaAa",
        "outputId": "4a1e5926-e120-4a1b-f1d7-03c68ecf355d"
      },
      "outputs": [
        {
          "name": "stdout",
          "output_type": "stream",
          "text": [
            "['145' '37' '28' '199' '549' '149' '250' '90' '270' '290' '170' '59' '49'\n",
            " '68' '285' '75' '100' '150' '700' '125' '175' '40' '89' '95' '99' '499'\n",
            " '120' '79' '110' '180' '143' '230' '350' '135' '85' '60' '70' '55' '44'\n",
            " '200' '165' '115' '74' '84' '129' '50' '185' '80' '190' '140' '45' '65'\n",
            " '225' '600' '109' '1990' '73' '240' '72' '105' '155' '160' '42' '132'\n",
            " '117' '295' '280' '159' '107' '69' '239' '220' '399' '130' '375' '585'\n",
            " '275' '139' '260' '35' '133' '300' '289' '179' '98' '195' '29' '27' '39'\n",
            " '249' '192' '142' '169' '1000' '131' '138' '113' '122' '329' '101' '475'\n",
            " '238' '272' '308' '126' '235' '315' '248' '128' '56' '207' '450' '215'\n",
            " '210' '385' '445' '136' '247' '118' '77' '76' '92' '198' '205' '299'\n",
            " '222' '245' '104' '153' '349' '114' '320' '292' '226' '420' '500' '325'\n",
            " '307' '78' '265' '108' '123' '189' '32' '58' '86' '219' '800' '335' '63'\n",
            " '229' '425' '67' '87' '1200' '158' '650' '234' '310' '695' '400' '166'\n",
            " '119' '62' '168' '340' '479' '43' '395' '144' '52' '47' '529' '187' '209'\n",
            " '233' '82' '269' '163' '172' '305' '156' '550' '435' '137' '124' '48'\n",
            " '279' '330' '5000' '134' '378' '97' '277' '64' '193' '147' '186' '264'\n",
            " '30' '3000' '112' '94' '379' '57' '415' '236' '410' '214' '88' '66' '71'\n",
            " '171' '157' '545' '1500' '83' '96' '1800' '81' '188' '380' '255' '505'\n",
            " '54' '33' '174' '93' '740' '640' '1300' '440' '599' '357' '1239' '495'\n",
            " '127' '5999' '178' '348' '152' '242' '183' '253' '750' '259' '365' '273'\n",
            " '197' '397' '103' '389' '355' '559' '38' '203' '999' '141' '162' '333'\n",
            " '698' '46' '360' '895' '10' '41' '206' '281' '449' '388' '212' '102'\n",
            " '201' '2750' '4750' '432' '675' '167' '390' '298' '339' '194' '302' '211'\n",
            " '595' '191' '53' '361' '480' '8000' '4500' '459' '997' '345' '216' '218'\n",
            " '111' '735' '276' '91' '490' '850' '398' '36' '775' '267' '625' '336'\n",
            " '2500' '176' '725' '3750' '469' '106' '460' '287' '575' '227' '263' '25'\n",
            " '228' '208' '177' '880' '148' '116' '685' '470' '217' '164' '61' '645'\n",
            " '699' '405' '252' '319' '268' '419' '343' '525' '311' '840' '154' '294'\n",
            " '950' '409' '184' '257' '204' '241' '2000' '412' '121' '288' '196' '900'\n",
            " '647' '524' '1750' '309' '510' '1495' '1700' '799' '383' '372' '492'\n",
            " '327' '1999' '656' '224' '173' '875' '1170' '795' '690' '146' '465'\n",
            " '1100' '151' '274' '429' '825' '282' '256' '1111' '620' '271' '161' '51'\n",
            " '855' '579' '1174' '430' '20' '899' '649' '485' '181' '455' '4000' '243'\n",
            " '342' '590' '560' '374' '437' '232' '359' '985' '31' '244' '254' '723'\n",
            " '237' '428' '370' '34' '1400' '580' '2520' '221' '749' '1600' '2695'\n",
            " '306' '202' '680' '570' '520' '223' '2295' '213' '1065' '346' '24' '286'\n",
            " '296' '266' '26' '995' '1368' '393' '182' '635' '258' '780' '589' '347'\n",
            " '1250' '1350' '446' '3200' '1050' '1650' '1550' '975' '323' '6500' '2499'\n",
            " '1850' '2250' '715' '461' '540' '356' '439' '384' '569' '1900' '22' '785'\n",
            " '626' '830' '318' '444' '321' '401' '1499' '888' '369' '770' '386' '366'\n",
            " '344' '630' '313' '597' '262' '509' '10000' '278' '312' '789' '1195'\n",
            " '422' '21' '765' '3500' '945' '326' '3100' '2486' '3390' '1356' '2599'\n",
            " '472' '454' '328' '396' '291'] \n",
            "\n"
          ]
        }
      ],
      "source": [
        "# Q2.1 - Cleaning the numeric variables:\n",
        "\n",
        "# remove the ',' separators from the numbers:\n",
        "# 1. convert all the variables in 'price' to string:\n",
        "df_airbnb['Price'] = df_airbnb['Price'].astype(str)\n",
        "# 2. remove the commas\n",
        "df_airbnb['Price'] = df_airbnb['Price'].str.replace(',', '', regex=True) # it wouldn't remove the commas without the regex argument\n",
        "# so for this example it will look at the numbers above and if it sees a comma, it will replace it with nothing\n",
        "print(df_airbnb['Price'].unique(), '\\n')"
      ]
    },
    {
      "cell_type": "code",
      "execution_count": 87,
      "id": "fydvdW0FrppR",
      "metadata": {
        "colab": {
          "base_uri": "https://localhost:8080/"
        },
        "id": "fydvdW0FrppR",
        "outputId": "75afc398-8c44-4051-a578-a478151627b3"
      },
      "outputs": [
        {
          "name": "stdout",
          "output_type": "stream",
          "text": [
            "int64\n"
          ]
        }
      ],
      "source": [
        "#3. change the price variable back to numeric\n",
        "df_airbnb['Price'] = pd.to_numeric(df_airbnb['Price'], errors='coerce')\n",
        "# 4. checking what type price is\n",
        "print(df_airbnb['Price'].dtype)\n"
      ]
    },
    {
      "cell_type": "code",
      "execution_count": 88,
      "id": "eQAh2ez8iJg9",
      "metadata": {
        "colab": {
          "base_uri": "https://localhost:8080/"
        },
        "id": "eQAh2ez8iJg9",
        "outputId": "412500db-678f-4b10-c94e-ff9b1bbdbfe5"
      },
      "outputs": [
        {
          "name": "stdout",
          "output_type": "stream",
          "text": [
            "False\n"
          ]
        }
      ],
      "source": [
        "# Q2.1 -  seeing if there are any missing values\n",
        "print(df_airbnb['Price'].isnull().values.any())\n",
        "# end up with no missing values\n"
      ]
    },
    {
      "cell_type": "code",
      "execution_count": null,
      "id": "Y6NEbPvEcytz",
      "metadata": {
        "id": "Y6NEbPvEcytz"
      },
      "outputs": [],
      "source": [
        "# SEPARATION FROM QUESTION 2.1 TO 2.2"
      ]
    },
    {
      "cell_type": "code",
      "execution_count": 234,
      "id": "INdsU21oa9Mi",
      "metadata": {
        "colab": {
          "base_uri": "https://localhost:8080/"
        },
        "id": "INdsU21oa9Mi",
        "outputId": "9c1f2b49-b68c-4762-f9a9-4fad288136be"
      },
      "outputs": [
        {
          "name": "stdout",
          "output_type": "stream",
          "text": [
            "      index   Case Number                  Date    Year        Type  \\\n",
            "0         0    2020.02.05           05-Feb-2020  2020.0  Unprovoked   \n",
            "1         1  2020.01.30.R  Reported 30-Jan-2020  2020.0    Provoked   \n",
            "2         2    2020.01.17           17-Jan-2020  2020.0  Unprovoked   \n",
            "3         3    2020.01.16           16-Jan-2020  2020.0  Unprovoked   \n",
            "4         4    2020.01.13           13-Jan-2020  2020.0  Unprovoked   \n",
            "...     ...           ...                   ...     ...         ...   \n",
            "6457   6457       ND.0005           Before 1903     0.0  Unprovoked   \n",
            "6458   6458       ND.0004           Before 1903     0.0  Unprovoked   \n",
            "6459   6459       ND.0003             1900-1905     0.0  Unprovoked   \n",
            "6460   6460       ND.0002             1883-1889     0.0  Unprovoked   \n",
            "6461   6461       ND.0001             1845-1853     0.0  Unprovoked   \n",
            "\n",
            "                 Country               Area  \\\n",
            "0                    USA               Maui   \n",
            "1                BAHAMAS             Exumas   \n",
            "2              AUSTRALIA    New South Wales   \n",
            "3            NEW ZEALAND          Southland   \n",
            "4                    USA     North Carolina   \n",
            "...                  ...                ...   \n",
            "6457           AUSTRALIA  Western Australia   \n",
            "6458           AUSTRALIA  Western Australia   \n",
            "6459                 USA     North Carolina   \n",
            "6460              PANAMA                NaN   \n",
            "6461  CEYLON (SRI LANKA)   Eastern Province   \n",
            "\n",
            "                                 Location                  Activity  \\\n",
            "0                                     NaN  Stand-Up Paddle boarding   \n",
            "1                                     NaN                  Floating   \n",
            "2                           Windang Beach                   Surfing   \n",
            "3                             Oreti Beach                   Surfing   \n",
            "4                   Rodanthe, Dare County                   Surfing   \n",
            "...                                   ...                       ...   \n",
            "6457                          Roebuck Bay                    Diving   \n",
            "6458                                  NaN              Pearl diving   \n",
            "6459                       Ocracoke Inlet                  Swimming   \n",
            "6460                 Panama Bay 8ºN, 79ºW                       NaN   \n",
            "6461  Below the English fort, Trincomalee                  Swimming   \n",
            "\n",
            "                       Name  ... Unnamed: 246 Unnamed: 247 Unnamed: 248  \\\n",
            "0                       NaN  ...          NaN          NaN          NaN   \n",
            "1           Ana Bruna Avila  ...          NaN          NaN          NaN   \n",
            "2            Will Schroeter  ...          NaN          NaN          NaN   \n",
            "3               Jordan King  ...          NaN          NaN          NaN   \n",
            "4              Samuel Horne  ...          NaN          NaN          NaN   \n",
            "...                     ...  ...          ...          ...          ...   \n",
            "6457                   male  ...          NaN          NaN          NaN   \n",
            "6458                  Ahmun  ...          NaN          NaN          NaN   \n",
            "6459  Coast Guard personnel  ...          NaN          NaN          NaN   \n",
            "6460        Jules Patterson  ...          NaN          NaN          NaN   \n",
            "6461                   male  ...          NaN          NaN          NaN   \n",
            "\n",
            "     Unnamed: 249 Unnamed: 250 Unnamed: 251 Unnamed: 252 Unnamed: 253  \\\n",
            "0             NaN          NaN          NaN          NaN          NaN   \n",
            "1             NaN          NaN          NaN          NaN          NaN   \n",
            "2             NaN          NaN          NaN          NaN          NaN   \n",
            "3             NaN          NaN          NaN          NaN          NaN   \n",
            "4             NaN          NaN          NaN          NaN          NaN   \n",
            "...           ...          ...          ...          ...          ...   \n",
            "6457          NaN          NaN          NaN          NaN          NaN   \n",
            "6458          NaN          NaN          NaN          NaN          NaN   \n",
            "6459          NaN          NaN          NaN          NaN          NaN   \n",
            "6460          NaN          NaN          NaN          NaN          NaN   \n",
            "6461          NaN          NaN          NaN          NaN          NaN   \n",
            "\n",
            "     Unnamed: 254 Unnamed: 255  \n",
            "0             NaN          NaN  \n",
            "1             NaN          NaN  \n",
            "2             NaN          NaN  \n",
            "3             NaN          NaN  \n",
            "4             NaN          NaN  \n",
            "...           ...          ...  \n",
            "6457          NaN          NaN  \n",
            "6458          NaN          NaN  \n",
            "6459          NaN          NaN  \n",
            "6460          NaN          NaN  \n",
            "6461          NaN          NaN  \n",
            "\n",
            "[6462 rows x 257 columns]\n"
          ]
        },
        {
          "data": {
            "text/plain": [
              "0       Unprovoked\n",
              "1         Provoked\n",
              "2       Unprovoked\n",
              "3       Unprovoked\n",
              "4       Unprovoked\n",
              "           ...    \n",
              "6457    Unprovoked\n",
              "6458    Unprovoked\n",
              "6459    Unprovoked\n",
              "6460    Unprovoked\n",
              "6461    Unprovoked\n",
              "Name: Type, Length: 6462, dtype: object"
            ]
          },
          "execution_count": 234,
          "metadata": {},
          "output_type": "execute_result"
        }
      ],
      "source": [
        "# Q2.2 Cleaning the categorical variable 'Type' from the shark data\n",
        "import numpy as np\n",
        "import pandas as pd\n",
        "import matplotlib.pyplot as plt\n",
        "\n",
        "# importing the data\n",
        "df_sharks = pd.read_csv('sharks.csv',low_memory=False)\n",
        "\n",
        "print(df_sharks)\n",
        "# getting the 'type' variable\n",
        "df_sharks['Type']"
      ]
    },
    {
      "cell_type": "code",
      "execution_count": 235,
      "id": "86IYKkhTbHUE",
      "metadata": {
        "colab": {
          "base_uri": "https://localhost:8080/"
        },
        "id": "86IYKkhTbHUE",
        "outputId": "e9b7eb3b-eaf9-485a-deda-866b82e48232"
      },
      "outputs": [
        {
          "name": "stdout",
          "output_type": "stream",
          "text": [
            "True\n",
            "5 \n",
            "\n"
          ]
        }
      ],
      "source": [
        "# finding the missing variables\n",
        "print(df_sharks['Type'].isnull().values.any())\n",
        "# checking how many NAs are there\n",
        "df_sharks['Type_NA'] = df_sharks[\"Type\"].isnull()\n",
        "print(sum(df_sharks['Type_NA']),'\\n')\n",
        "# removing the 5 NAs\n",
        "df_sharks = df_sharks.dropna(subset=['Type'])"
      ]
    },
    {
      "cell_type": "code",
      "execution_count": 236,
      "id": "hNfx8T3_bIGG",
      "metadata": {
        "colab": {
          "base_uri": "https://localhost:8080/"
        },
        "id": "hNfx8T3_bIGG",
        "outputId": "2029de4f-ee78-42bc-db22-3c01de452542"
      },
      "outputs": [
        {
          "name": "stdout",
          "output_type": "stream",
          "text": [
            "False\n"
          ]
        }
      ],
      "source": [
        "# check if the NAs where dropped\n",
        "print(df_sharks['Type'].isnull().values.any())\n",
        "# no missing values since the 5 NAs were dropped"
      ]
    },
    {
      "cell_type": "code",
      "execution_count": 237,
      "id": "cNqBoPNhbKIu",
      "metadata": {
        "colab": {
          "base_uri": "https://localhost:8080/"
        },
        "id": "cNqBoPNhbKIu",
        "outputId": "ddf27566-5695-4d65-cacc-a6223c03f8ce"
      },
      "outputs": [
        {
          "name": "stdout",
          "output_type": "stream",
          "text": [
            "['Unprovoked', 'Provoked', 'Questionable', 'Watercraft', 'Unconfirmed', 'Unverified', 'Invalid', 'Under investigation', 'Boating', 'Sea Disaster', 'Boat', 'Boatomg']\n"
          ]
        }
      ],
      "source": [
        "# seeing the variables in the \"Types column\"\n",
        "print(df_sharks['Type'].unique().tolist())"
      ]
    },
    {
      "cell_type": "code",
      "execution_count": 238,
      "id": "8la4jX_2bMEA",
      "metadata": {
        "colab": {
          "base_uri": "https://localhost:8080/"
        },
        "id": "8la4jX_2bMEA",
        "outputId": "c3ca7c73-a7f7-4da7-e84d-4570ef0482b6"
      },
      "outputs": [
        {
          "name": "stdout",
          "output_type": "stream",
          "text": [
            "Sea Disaster    239\n",
            "Watercraft      142\n",
            "Boat            109\n",
            "Boating          92\n",
            "Boatomg           1\n",
            "Name: Boat_Activity, dtype: int64\n",
            "Invalid                552\n",
            "Questionable            10\n",
            "Unconfirmed              1\n",
            "Unverified               1\n",
            "Under investigation      1\n",
            "Name: Status, dtype: int64\n"
          ]
        }
      ],
      "source": [
        "# Create a column called \"Activity\" that will contain \"Watercraft\", \"Boating\", \"Boat\", \"Boatomg\", and \"Sea Disaster\"\n",
        "df_sharks.loc[df_sharks['Type'] == 'Watercraft', 'Boat_Activity'] = 'Watercraft'\n",
        "df_sharks.loc[df_sharks['Type'] == 'Boating', 'Boat_Activity'] = 'Boating'\n",
        "df_sharks.loc[df_sharks['Type'] == 'Sea Disaster', 'Boat_Activity'] = 'Sea Disaster'\n",
        "df_sharks.loc[df_sharks['Type'] == 'Boat', 'Boat_Activity'] = 'Boat'\n",
        "df_sharks.loc[df_sharks['Type'] == 'Boatomg', 'Boat_Activity'] = 'Boatomg'\n",
        "\n",
        "\n",
        "print(df_sharks['Boat_Activity'].value_counts())\n",
        "\n",
        "# Create a column called \"Status\" that will contain \"Questionable\", \"Unconfirmed\", \"Unverified\", \"Under investigation\", and \"Invalid\"\n",
        "df_sharks.loc[df_sharks['Type'] == 'Questionable', 'Status'] = 'Questionable'\n",
        "df_sharks.loc[df_sharks['Type'] == 'Unconfirmed', 'Status'] = 'Unconfirmed'\n",
        "df_sharks.loc[df_sharks['Type'] == 'Unverified', 'Status'] = 'Unverified'\n",
        "df_sharks.loc[df_sharks['Type'] == 'Invalid', 'Status'] = 'Invalid'\n",
        "df_sharks.loc[df_sharks['Type'] == 'Under investigation', 'Status'] = 'Under investigation'\n",
        "\n",
        "\n",
        "print(df_sharks['Status'].value_counts())"
      ]
    },
    {
      "cell_type": "code",
      "execution_count": 239,
      "id": "sKsP-BZO_QLN",
      "metadata": {
        "colab": {
          "base_uri": "https://localhost:8080/"
        },
        "id": "sKsP-BZO_QLN",
        "outputId": "4b319265-4de0-4ccc-fa6c-5d553012b06e"
      },
      "outputs": [
        {
          "name": "stdout",
          "output_type": "stream",
          "text": [
            "True\n"
          ]
        }
      ],
      "source": [
        "# Check the NAs for the \"Boat_Activity\"\n",
        "print(df_sharks['Boat_Activity'].isnull().values.any())\n",
        "# remove the NAs\n",
        "df_sharks = df_sharks.dropna(subset=['Boat_Activity'])\n"
      ]
    },
    {
      "cell_type": "code",
      "execution_count": 240,
      "id": "KkWK4z5FEbKK",
      "metadata": {
        "colab": {
          "base_uri": "https://localhost:8080/"
        },
        "id": "KkWK4z5FEbKK",
        "outputId": "3464a059-edc8-4910-fd9b-013c4aa6d7f1"
      },
      "outputs": [
        {
          "name": "stdout",
          "output_type": "stream",
          "text": [
            "False\n"
          ]
        }
      ],
      "source": [
        "# check if the NAs were removed\n",
        "print(df_sharks['Boat_Activity'].isnull().values.any())"
      ]
    },
    {
      "cell_type": "code",
      "execution_count": 242,
      "id": "NfW6hWAIbjUx",
      "metadata": {
        "colab": {
          "base_uri": "https://localhost:8080/"
        },
        "id": "NfW6hWAIbjUx",
        "outputId": "249c83f0-9de5-4f15-c1f6-82cbf4a00fb4"
      },
      "outputs": [
        {
          "name": "stdout",
          "output_type": "stream",
          "text": [
            "True\n"
          ]
        }
      ],
      "source": [
        "# Check the NAs for the \"Status\"\n",
        "print(df_sharks['Status'].isnull().values.any())\n",
        "# remove the NAs\n",
        "df_sharks = df_sharks.dropna(subset=['Status'])"
      ]
    },
    {
      "cell_type": "code",
      "execution_count": 243,
      "id": "CzGvVQz0E0HS",
      "metadata": {
        "colab": {
          "base_uri": "https://localhost:8080/"
        },
        "id": "CzGvVQz0E0HS",
        "outputId": "ed9c3edd-ce14-4f35-b4c1-1b83e190dcbe"
      },
      "outputs": [
        {
          "name": "stdout",
          "output_type": "stream",
          "text": [
            "False\n"
          ]
        }
      ],
      "source": [
        "# check if the NAs were removed\n",
        "print(df_sharks['Status'].isnull().values.any())"
      ]
    },
    {
      "cell_type": "code",
      "execution_count": null,
      "id": "aIzNhGDac3HL",
      "metadata": {
        "id": "aIzNhGDac3HL"
      },
      "outputs": [],
      "source": [
        "# SEPARATION FROM Q2.2 TO Q2.3"
      ]
    },
    {
      "cell_type": "code",
      "execution_count": 79,
      "id": "Bn6Fc6sVcPUa",
      "metadata": {
        "colab": {
          "base_uri": "https://localhost:8080/"
        },
        "id": "Bn6Fc6sVcPUa",
        "outputId": "b123f0ae-422b-4ac7-da0f-5327a7fbdf80"
      },
      "outputs": [
        {
          "name": "stdout",
          "output_type": "stream",
          "text": [
            "0        NaN\n",
            "1        0.0\n",
            "2        0.0\n",
            "3        0.0\n",
            "4        1.0\n",
            "        ... \n",
            "22981    1.0\n",
            "22982    1.0\n",
            "22983    1.0\n",
            "22984    1.0\n",
            "22985    1.0\n",
            "Name: released, Length: 22986, dtype: float64\n"
          ]
        }
      ],
      "source": [
        "# Q2.3 Cleaning the dummy variable \"Whether Defedant Was Released Pretrial\" from pretrial data\n",
        "\n",
        "import numpy as np\n",
        "import pandas as pd\n",
        "import matplotlib.pyplot as plt\n",
        "\n",
        "# importing the data\n",
        "df = pd.read_csv('/content/pretrial_data.csv',low_memory=False)\n",
        "\n",
        "# getting and renaming the 'WhetherDefedantWasReleasedPretrail' to 'released':\n",
        "df = df.rename(columns = {'WhetherDefendantWasReleasedPretrial':'released'})\n",
        "print(df['released'])\n",
        "# 0 is not released and 1 is released and 9 is uncertain\n"
      ]
    },
    {
      "cell_type": "code",
      "execution_count": 80,
      "id": "dh_OLJ-RkBT9",
      "metadata": {
        "colab": {
          "base_uri": "https://localhost:8080/"
        },
        "id": "dh_OLJ-RkBT9",
        "outputId": "0a0030e2-05d9-429f-d7a2-22bdf34b9a05"
      },
      "outputs": [
        {
          "name": "stdout",
          "output_type": "stream",
          "text": [
            "31 \n",
            "\n",
            "float64\n"
          ]
        }
      ],
      "source": [
        "# How many NAs:\n",
        "df['released_NA'] = df['released'].isnull()\n",
        "print(sum(df['released_NA']),'\\n')\n",
        "\n",
        "print(df['released'].dtype)"
      ]
    },
    {
      "cell_type": "code",
      "execution_count": 81,
      "id": "voFMV_hxmcfE",
      "metadata": {
        "colab": {
          "base_uri": "https://localhost:8080/"
        },
        "id": "voFMV_hxmcfE",
        "outputId": "db78574b-97b6-49fb-8453-e9396ba20b48"
      },
      "outputs": [
        {
          "name": "stdout",
          "output_type": "stream",
          "text": [
            "[nan  0.  1.]\n"
          ]
        }
      ],
      "source": [
        "# replace the NaNs with np.nan\n",
        "df['released'] = df['released'].replace( ['NaN'], np.nan)\n",
        "# checking if it worked\n",
        "print(df['released'].unique())\n"
      ]
    },
    {
      "cell_type": "code",
      "execution_count": null,
      "id": "bdST02ztoWcw",
      "metadata": {
        "id": "bdST02ztoWcw"
      },
      "outputs": [],
      "source": [
        "# SEPARATION FROM Q2.3 TO 2.4"
      ]
    },
    {
      "cell_type": "code",
      "execution_count": 65,
      "id": "c9kxDiCkqJq6",
      "metadata": {
        "colab": {
          "base_uri": "https://localhost:8080/"
        },
        "id": "c9kxDiCkqJq6",
        "outputId": "0f24682c-c26d-4c09-a8dc-8d9bc043d432"
      },
      "outputs": [
        {
          "name": "stderr",
          "output_type": "stream",
          "text": [
            "<ipython-input-65-0cad2ff4b839>:7: DtypeWarning: Columns (1,4,5,7,79,80,81,82,83,84,108,163,164,165,166,168,169,170,171,172,173,174,175,176,177,178,179,180,181,182,183,184,185,186,187,188,189,190,191,192,193,194,195,196,197,198,199,200,201,202,203,204,205,206,207,208,209,210,211,212,213,214,215,216,217,218,219,220,221,222,223,224,225,226,227,228,229,230,231,232,233,234,235,236,237,238,239,240,241,242,243,244,245,246,247,248,249,250,251,252,253,254,255,256,257,258,259,260,261,262,263,264,265,266,267,268,270,271,272,273,275,276,277,278,279,280,281,282,283,284,285,286,287,288,289,290,291,292,293,294,295,296,297,301,302,303,306,307,308,309,310,311,312,313,314,315,316,317,318,319,320,321,322,323,324,325,326,327,328,329,330,331,332,333,334,335,336,337,338,339,340,341,342,343,344,345,346,347,348,349,350,351,352,353,354,355,356,357,358,359,360,361,362,363,364,365,366,367,368,369,370,371,372,373,374,375,376,377,378,379,380,381,382,383,384,385,386,387,388,389,390,391,392,393,394,395,396,397,398,399,400,401,402,403,404,405,406,407,408,409,410,411,412,413,414,415,416,417,418,419,420,421,422,423,424,425,426,427,428,429,430,431,432,433,434,435,436,437,438,439,440,441,442,443,444,445,446,447,448,449,450,451,452,453,454,455,456,457,458,459,460,461,462,463,464,465,466,467,468,469,470,471,472,473,474,475,476,477,478,479,480,481,482,483,484,485,486,487,488,489,490,491,492,493,494,495,496,497,498,499,500,502,503,504,505,506,507,508,509,510,511,512,513,514,515,516,517,518,519,520,521,522,523,524,525,526,527,528,529,530,531,532,533,534,535,536,537,538,539,540,541,542,543,544,545,706) have mixed types. Specify dtype option on import or set low_memory=False.\n",
            "  df = pd.read_csv('/content/VirginiaPretrialData2017.csv')\n"
          ]
        },
        {
          "name": "stdout",
          "output_type": "stream",
          "text": [
            "0        9\n",
            "1        0\n",
            "2        0\n",
            "3        0\n",
            "4        1\n",
            "        ..\n",
            "22981    1\n",
            "22982    1\n",
            "22983    1\n",
            "22984    1\n",
            "22985    1\n",
            "Name: imposed, Length: 22986, dtype: int64\n"
          ]
        }
      ],
      "source": [
        "# Question 2.4 Clean the ImposedSentenceAllChargeInContactEvent\n",
        "\n",
        "import numpy as np\n",
        "import pandas as pd\n",
        "import matplotlib.pyplot as plt\n",
        "\n",
        "# getting the data:\n",
        "df = pd.read_csv('/content/VirginiaPretrialData2017.csv')\n",
        "\n",
        "# renaming the 'ImposedSentenceAllChargeInContactEvent' to 'imposed':\n",
        "\n",
        "df = df.rename(columns = {'WhetherDefendantWasReleasedPretrial':'imposed'})\n",
        "print(df['imposed'])"
      ]
    },
    {
      "cell_type": "code",
      "execution_count": 68,
      "id": "OCvcrFk_82HG",
      "metadata": {
        "colab": {
          "base_uri": "https://localhost:8080/"
        },
        "id": "OCvcrFk_82HG",
        "outputId": "924edc9d-d543-4dcb-949c-88e5cd877739"
      },
      "outputs": [
        {
          "name": "stdout",
          "output_type": "stream",
          "text": [
            "[nan  0.  1.]\n",
            "False\n"
          ]
        }
      ],
      "source": [
        "# change the 9 variable to nan\n",
        "df['imposed'] = df['imposed'].replace(9,np.nan)\n",
        "# check if it worked\n",
        "print(df['imposed'].unique())\n",
        "# checking to see if there are any 9s left\n",
        "print(9 in df['imposed'].unique())"
      ]
    },
    {
      "cell_type": "code",
      "execution_count": 76,
      "id": "e30rcYCd86jH",
      "metadata": {
        "colab": {
          "base_uri": "https://localhost:8080/"
        },
        "id": "e30rcYCd86jH",
        "outputId": "c48fc376-5f13-4493-cb94-897aa9c6bdef"
      },
      "outputs": [
        {
          "name": "stdout",
          "output_type": "stream",
          "text": [
            "[nan  0.  1.]\n",
            "False\n"
          ]
        }
      ],
      "source": [
        "# make the 4 variable into 0\n",
        "df['imposed'] = df['imposed'].replace(4, 0)\n",
        "# check if it worked\n",
        "print(df['imposed'].unique())\n",
        "# checking to see if there are any 4s left\n",
        "print(4 in df['imposed'].unique())\n"
      ]
    },
    {
      "cell_type": "markdown",
      "id": "c11bcd96-2834-41a4-80fe-d354b4277fd9",
      "metadata": {
        "id": "c11bcd96-2834-41a4-80fe-d354b4277fd9"
      },
      "source": [
        "**Q3.** This question provides some practice doing exploratory data analysis and visualization.\n",
        "\n",
        "The \"relevant\" variables for this question are:\n",
        "  - `level` - Level of institution (4-year, 2-year)\n",
        "  - `aid_value` - The average amount of student aid going to undergraduate recipients\n",
        "  - `control` - Public, Private not-for-profit, Private for-profit\n",
        "  - `grad_100_value` - percentage of first-time, full-time, degree-seeking undergraduates who complete a degree or certificate program within 100 percent of expected time (bachelor's-seeking group at 4-year institutions)\n",
        "\n",
        "1. Load the `./data/college_completion.csv` data with Pandas.\n",
        "2. What are are the dimensions of the data? How many observations are there? What are the variables included? Use `.head()` to examine the first few rows of data.\n",
        "3. Cross tabulate `control` and `level`. Describe the patterns you see.\n",
        "4. For `grad_100_value`, create a histogram, kernel density plot, boxplot, and statistical description.\n",
        "5. For `grad_100_value`, create a grouped kernel density plot by `control` and by `level`. Describe what you see. Use `groupby` and `.describe` to make grouped calculations of statistical descriptions of `grad_100_value` by `level` and `control`. Which institutions appear to have the best graduation rates?\n",
        "6. Create a new variable, `df['levelXcontrol']=df['level']+', '+df['control']` that interacts level and control. Make a grouped kernel density plot. Which institutions appear to have the best graduation rates?\n",
        "7. Make a kernel density plot of `aid_value`. Notice that your graph is \"bi-modal\", having two little peaks that represent locally most common values. Now group your graph by `level` and `control`. What explains the bi-modal nature of the graph? Use `groupby` and `.describe` to make grouped calculations of statistical descriptions of `aid_value` by `level` and `control`.\n",
        "8. Make a scatterplot of `grad_100_value` by `aid_value`. Describe what you see. Now make the same plot, grouping by `level` and then `control`. Describe what you see. For which kinds of institutions does aid seem to increase graduation rates?"
      ]
    },
    {
      "cell_type": "markdown",
      "id": "98d34a3b-c21d-4dc9-a8d2-fb7686804ceb",
      "metadata": {
        "id": "98d34a3b-c21d-4dc9-a8d2-fb7686804ceb"
      },
      "source": [
        "**Q4.** This question uses the Airbnb data to practice making visualizations.\n",
        "\n",
        "  1. Load the `./data/airbnb_hw.csv` data with Pandas. You should have cleaned the `Price` variable in question 2, and you'll need it later for this question.\n",
        "  2. What are are the dimensions of the data? How many observations are there? What are the variables included? Use `.head()` to examine the first few rows of data.\n",
        "  3. Cross tabulate `Room Type` and `Property Type`. What patterns do you see in what kinds of rentals are available? For which kinds of properties are private rooms more common than renting the entire property?\n",
        "  4. For `Price`, make a histogram, kernel density, box plot, and a statistical description of the variable. Are the data badly scaled? Are there many outliers? Use `log` to transform price into a new variable, `price_log`, and take these steps again.\n",
        "  5. Make a scatterplot of `price_log` and `Beds`. Describe what you see. Use `.groupby()` to compute a desciption of `Price` conditional on/grouped by the number of beds. Describe any patterns you see in the average price and standard deviation in prices.\n",
        "  6. Make a scatterplot of `price_log` and `Beds`, but color the graph by `Room Type` and `Property Type`. What patterns do you see? Compute a description of `Price` conditional on `Room Type` and `Property Type`. Which Room Type and Property Type have the highest prices on average? Which have the highest standard deviation? Does the mean or median appear to be a more reliable estimate of central tendency, and explain why?\n",
        "  7. We've looked a bit at this `price_log` and `Beds` scatterplot. Use seaborn to make a `jointplot` with `kind=hex`. Where are the data actually distributed? How does it affect the way you think about the plots in 5 and 6?"
      ]
    },
    {
      "cell_type": "markdown",
      "id": "649494cd-cfd6-4f80-992a-9994fc19e1d5",
      "metadata": {
        "id": "649494cd-cfd6-4f80-992a-9994fc19e1d5"
      },
      "source": [
        "**Q5.** Many important datasets contain a race variable, typically limited to a handful of values often including Black, White, Asian, Latino, and Indigenous. This question looks at data gathering efforts on this variable by the U.S. Federal government.\n",
        "\n",
        "1. How did the most recent US Census gather data on race?\n",
        "2. Why do we gather these data? What role do these kinds of data play in politics and society? Why does data quality matter?\n",
        "3. Please provide a constructive criticism of how the Census was conducted: What was done well? What do you think was missing? How should future large scale surveys be adjusted to best reflect the diversity of the population? Could some of the Census' good practices be adopted more widely to gather richer and more useful data?\n",
        "4. How did the Census gather data on sex and gender? Please provide a similar constructive criticism of their practices.\n",
        "5. When it comes to cleaning data, what concerns do you have about protected characteristics like sex, gender, sexual identity, or race? What challenges can you imagine arising when there are missing values? What good or bad practices might people adopt, and why?\n",
        "6. Suppose someone invented an algorithm to impute values for protected characteristics like race, gender, sex, or sexuality. What kinds of concerns would you have?"
      ]
    },
    {
      "cell_type": "code",
      "execution_count": null,
      "id": "io-nXe-oQJdi",
      "metadata": {
        "id": "io-nXe-oQJdi"
      },
      "outputs": [],
      "source": [
        "# Question 5\n",
        "\n",
        "# Q5.1\n",
        "# There is a census questionnaire that paricipants answer. The choices are \"white\",\"black or african american\", \"asian\",\n",
        "#\"native hawaiian and other pacific  islander\", and / or \"two or more races\". The US Census Bureau collects this data with the guidelines provided by\n",
        "# the US Office of Management and Budget. (https://www.census.gov/quickfacts/fact/note/US/RHI625222)\n",
        "\n",
        "# Q5.2\n",
        "# We gather this information to make decisions about policies, health related problems, environmental related problems, and societal related problems.\n",
        "# This data plays a big role in politics since it helps to make decisions about policy making and it also plays a big role in society since it comes up\n",
        "# to solutions of societal perception of races or sometimes makes certain problems that races have aware to the public.\n",
        "# The data's quality matters because it plays such a big role for people's lives.\n",
        "\n",
        "# Q5.3\n",
        "# In getting information about a person's race, the US Census does a good job of allowing people to select more than one race and having detailed options, for example,\n",
        "# for example, having separate options for asians and pacific islanders, and the data protection. Some things that are missing are having a separate option for people\n",
        "# with Middle Eastern or North African ancestery, another one is having more specific options for the indigenous people (tribes), lastly, there could be a multiracial\n",
        "# option for people that might not want to check every race that they are. Future surveys should have more inclusive categories such as the Middle Eastern or North African\n",
        "# ancestery and more options for the indegenous tribes. Another suggestion is to have open ended questions for things that cannot be answered in a multiple choice question.\n",
        "# Lastly, there could be examples of each categories in case peopel get confused. Some of the Census' practices could be adapted into education or healthcare.\n",
        "\n",
        "# Q 5.4\n",
        "# To get information about a person's sex and gender, the US Census Bureau asks them in surveys. Some of the good things that they do is that\n",
        "# they made clarifications, for example, when asking about a participant's sex, they have participants mark the sex they identify with even if it doesnt match with their\n",
        "# official records. Another good thing is both the sensitivity that they show and the data protection. Some things that are missing are the non-binary or transgender\n",
        "# options. Future surveys should have wider gender options like \" gender fluid\" or \" non-binary\"and options for different cultural gender identities.\n",
        "# Lastly, they should have language updates as the language changes for the gender and sex.\n",
        "\n",
        "# Q5.5\n",
        "# Some concerns while cleaning data like this is erasing rare representations that might look like outliers or putting two categories together that are actually completely two different things.\n",
        "# Some challenges when dealing with missing data might be that some groups don't have enough values to analyze which can lead to inaccurate results about this group of people\n",
        "# another challenge might be inferring missing values, for example if you have the name \"Roy\" and assume that it's a woman but it turns out to be a man, this could result in missclasification\n",
        "# Some good practices might be working with a diverse group of people so that there are multiple persepctives which can lead to an accurate data cleaning result.\n",
        "# Another good practice might be to comment the decision to do things in data cleaning so that if a mistake happens people can go back and see the reasoning and try to fix it\n",
        "# Some bad practices might be ignoring the missing values and not understanding as to why they are there and this could lead to misinterpreted results\n",
        "# Another bad practice might be just doing things without thinking of the outcome and again, this can lead to bad results.\n",
        "\n",
        "#Q5.6\n",
        "# One concern might be that if a researcher was to impute a value for these protected characteristics, they might look as if they are making assumptions about that person's identity\n",
        "# A second concern might be that impute characteristics like these will lead to misinterpretation\n",
        "# A third concern is a person can face legal consequences if there is no consent about imputing values"
      ]
    },
    {
      "cell_type": "markdown",
      "id": "2f38f2fd-6381-481d-bba9-017f3d363426",
      "metadata": {
        "id": "2f38f2fd-6381-481d-bba9-017f3d363426"
      },
      "source": [
        "**Q6.** Open the `./data/CBO_data.pdf` file. This contains tax data for 2019, explaining where the money comes from that the U.S. Federal Government Spends in terms of taxation on individuals/families and payroll taxes (the amount that your employer pays in taxes on your wages).\n",
        "\n",
        "For some context, the Federal government ultimately spent about $4.4 trillion in 2019, which was 21% of GDP (the total monetary value of all goods and services produced within the United States). Individual Income Taxes is the amount individuals pay on their wages to the Federal government, Corporate Income Taxes is the taxes individuals pay on capital gains from investment when they sell stock or other financial instruments, Payroll Taxes is the tax your employer pays on your wages, Excises and Customs Duties are taxes on goods or services like sin taxes on cigarettes or alcohol, and Estate and Gift Taxes are taxes paid on transfers of wealth to other people.\n",
        "\n",
        "1. Get the Millions of Families and Billions of Dollars data into a .csv file and load it with Pandas.\n",
        "2. Create a bar plot of individual income taxes by income decile. Explain what the graph shows. Why are some values negative?\n",
        "3. Create a bar plot of Total Federal Taxes by income decile. Which deciles are paying net positive amounts, and which are paying net negative amounts?\n",
        "4. Create a stacked bar plot for which Total Federal Taxes is grouped by Individual Income Taxes, Payroll Taxes, Excises and Customs Duties, and Estate and Gift Taxes. How does the share of taxes paid vary across the adjusted income deciles? (Hint: Are these the kind of data you want to melt?)\n",
        "5. Below the Total line for Millions of Families and Billions of Dollars, there are data for the richest of the richest families. Plot this alongside the bars for the deciles above the Total line. Describe your results.\n",
        "6. Get the Percent Distribution data into a .csv file and load it with Pandas. Create a bar graph of Total Federal Taxes by income decile.\n",
        "7. A tax system is progressive if higher-income and wealthier individuals pay more than lower-income and less wealthy individuals, and it is regressive if the opposite is true. Is the U.S. tax system progressive in terms of amount paid? In terms of the percentage of the overall total?\n",
        "8. Do the rich pay enough in taxes? Defend your answer."
      ]
    }
  ],
  "metadata": {
    "colab": {
      "provenance": []
    },
    "kernelspec": {
      "display_name": "Python 3 (ipykernel)",
      "language": "python",
      "name": "python3"
    },
    "language_info": {
      "codemirror_mode": {
        "name": "ipython",
        "version": 3
      },
      "file_extension": ".py",
      "mimetype": "text/x-python",
      "name": "python",
      "nbconvert_exporter": "python",
      "pygments_lexer": "ipython3",
      "version": "3.10.4"
    }
  },
  "nbformat": 4,
  "nbformat_minor": 5
}
